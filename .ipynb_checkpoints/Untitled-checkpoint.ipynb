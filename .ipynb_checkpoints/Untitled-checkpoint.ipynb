{
 "cells": [
  {
   "cell_type": "code",
   "execution_count": 1,
   "id": "eb802db0",
   "metadata": {},
   "outputs": [
    {
     "name": "stdout",
     "output_type": "stream",
     "text": [
      "retur\n"
     ]
    }
   ],
   "source": [
    "import pandas as pd\n",
    "from sklearn.feature_extraction.text import CountVectorizer\n",
    "from sklearn.naive_bayes import MultinomialNB\n",
    "from sklearn.pipeline import Pipeline\n",
    "\n",
    "# Contoh data\n",
    "data = {'text': ['Apa jam operasional?', 'Bagaimana cara retur?', 'Saya ingin menghubungi support', 'Ada diskon apa bulan ini?'],\n",
    "        'label': ['jam', 'retur', 'support', 'diskon']}\n",
    "df = pd.DataFrame(data)\n",
    "\n",
    "# Pipeline untuk text classification\n",
    "pipeline = Pipeline([\n",
    "    ('vect', CountVectorizer()),  # Mengubah teks menjadi vektor fitur\n",
    "    ('clf', MultinomialNB())      # Model klasifikasi\n",
    "])\n",
    "\n",
    "# Latih model\n",
    "pipeline.fit(df['text'], df['label'])\n",
    "\n",
    "# Fungsi chatbot untuk menjawab pertanyaan\n",
    "def chatbot_response(question):\n",
    "    return pipeline.predict([question])[0]\n",
    "\n",
    "# Uji chatbot\n",
    "print(chatbot_response('Saya ingin menghubungi support'))  # Output: 'retur'\n"
   ]
  },
  {
   "cell_type": "code",
   "execution_count": null,
   "id": "7a7484bd",
   "metadata": {},
   "outputs": [],
   "source": []
  }
 ],
 "metadata": {
  "kernelspec": {
   "display_name": "Python 3 (ipykernel)",
   "language": "python",
   "name": "python3"
  },
  "language_info": {
   "codemirror_mode": {
    "name": "ipython",
    "version": 3
   },
   "file_extension": ".py",
   "mimetype": "text/x-python",
   "name": "python",
   "nbconvert_exporter": "python",
   "pygments_lexer": "ipython3",
   "version": "3.11.5"
  }
 },
 "nbformat": 4,
 "nbformat_minor": 5
}
