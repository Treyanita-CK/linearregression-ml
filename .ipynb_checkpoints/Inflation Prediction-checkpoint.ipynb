{
 "cells": [
  {
   "cell_type": "code",
   "execution_count": 14,
   "id": "6f79d94a",
   "metadata": {},
   "outputs": [
    {
     "data": {
      "text/html": [
       "<div>\n",
       "<style scoped>\n",
       "    .dataframe tbody tr th:only-of-type {\n",
       "        vertical-align: middle;\n",
       "    }\n",
       "\n",
       "    .dataframe tbody tr th {\n",
       "        vertical-align: top;\n",
       "    }\n",
       "\n",
       "    .dataframe thead th {\n",
       "        text-align: right;\n",
       "    }\n",
       "</style>\n",
       "<table border=\"1\" class=\"dataframe\">\n",
       "  <thead>\n",
       "    <tr style=\"text-align: right;\">\n",
       "      <th></th>\n",
       "      <th>No</th>\n",
       "      <th>Periode</th>\n",
       "      <th>Inflasi</th>\n",
       "    </tr>\n",
       "  </thead>\n",
       "  <tbody>\n",
       "    <tr>\n",
       "      <th>0</th>\n",
       "      <td>1</td>\n",
       "      <td>Desember 2023</td>\n",
       "      <td>2.61 %</td>\n",
       "    </tr>\n",
       "    <tr>\n",
       "      <th>1</th>\n",
       "      <td>2</td>\n",
       "      <td>November 2023</td>\n",
       "      <td>2.86 %</td>\n",
       "    </tr>\n",
       "    <tr>\n",
       "      <th>2</th>\n",
       "      <td>3</td>\n",
       "      <td>Oktober 2023</td>\n",
       "      <td>2.56 %</td>\n",
       "    </tr>\n",
       "    <tr>\n",
       "      <th>3</th>\n",
       "      <td>4</td>\n",
       "      <td>September 2023</td>\n",
       "      <td>2.28 %</td>\n",
       "    </tr>\n",
       "    <tr>\n",
       "      <th>4</th>\n",
       "      <td>5</td>\n",
       "      <td>Agustus 2023</td>\n",
       "      <td>3.27 %</td>\n",
       "    </tr>\n",
       "    <tr>\n",
       "      <th>...</th>\n",
       "      <td>...</td>\n",
       "      <td>...</td>\n",
       "      <td>...</td>\n",
       "    </tr>\n",
       "    <tr>\n",
       "      <th>187</th>\n",
       "      <td>188</td>\n",
       "      <td>Mei 2008</td>\n",
       "      <td>10.38 %</td>\n",
       "    </tr>\n",
       "    <tr>\n",
       "      <th>188</th>\n",
       "      <td>189</td>\n",
       "      <td>April 2008</td>\n",
       "      <td>8.96 %</td>\n",
       "    </tr>\n",
       "    <tr>\n",
       "      <th>189</th>\n",
       "      <td>190</td>\n",
       "      <td>Maret 2008</td>\n",
       "      <td>8.17 %</td>\n",
       "    </tr>\n",
       "    <tr>\n",
       "      <th>190</th>\n",
       "      <td>191</td>\n",
       "      <td>Februari 2008</td>\n",
       "      <td>7.4 %</td>\n",
       "    </tr>\n",
       "    <tr>\n",
       "      <th>191</th>\n",
       "      <td>192</td>\n",
       "      <td>Januari 2008</td>\n",
       "      <td>7.36 %</td>\n",
       "    </tr>\n",
       "  </tbody>\n",
       "</table>\n",
       "<p>192 rows × 3 columns</p>\n",
       "</div>"
      ],
      "text/plain": [
       "      No         Periode  Inflasi\n",
       "0      1   Desember 2023   2.61 %\n",
       "1      2   November 2023   2.86 %\n",
       "2      3    Oktober 2023   2.56 %\n",
       "3      4  September 2023   2.28 %\n",
       "4      5    Agustus 2023   3.27 %\n",
       "..   ...             ...      ...\n",
       "187  188        Mei 2008  10.38 %\n",
       "188  189      April 2008   8.96 %\n",
       "189  190      Maret 2008   8.17 %\n",
       "190  191   Februari 2008    7.4 %\n",
       "191  192    Januari 2008   7.36 %\n",
       "\n",
       "[192 rows x 3 columns]"
      ]
     },
     "execution_count": 14,
     "metadata": {},
     "output_type": "execute_result"
    }
   ],
   "source": [
    "import pandas as pd\n",
    "\n",
    "data = \"C:\\\\Users\\\\Treyanita Citra K\\\\Python\\\\Latihan Machine Learning\\\\File\\\\Data Inflasi.xlsx\"\n",
    "df = pd.read_excel(data)\n",
    "\n",
    "df.head(192)\n"
   ]
  },
  {
   "cell_type": "code",
   "execution_count": 9,
   "id": "adb3f127",
   "metadata": {},
   "outputs": [
    {
     "name": "stdout",
     "output_type": "stream",
     "text": [
      "<class 'pandas.core.frame.DataFrame'>\n",
      "RangeIndex: 192 entries, 0 to 191\n",
      "Data columns (total 3 columns):\n",
      " #   Column   Non-Null Count  Dtype \n",
      "---  ------   --------------  ----- \n",
      " 0   No       192 non-null    int64 \n",
      " 1   Periode  192 non-null    object\n",
      " 2   Inflasi  192 non-null    object\n",
      "dtypes: int64(1), object(2)\n",
      "memory usage: 4.6+ KB\n"
     ]
    }
   ],
   "source": [
    "df.info()"
   ]
  },
  {
   "cell_type": "code",
   "execution_count": 11,
   "id": "fc346efc",
   "metadata": {},
   "outputs": [
    {
     "data": {
      "text/html": [
       "<div>\n",
       "<style scoped>\n",
       "    .dataframe tbody tr th:only-of-type {\n",
       "        vertical-align: middle;\n",
       "    }\n",
       "\n",
       "    .dataframe tbody tr th {\n",
       "        vertical-align: top;\n",
       "    }\n",
       "\n",
       "    .dataframe thead th {\n",
       "        text-align: right;\n",
       "    }\n",
       "</style>\n",
       "<table border=\"1\" class=\"dataframe\">\n",
       "  <thead>\n",
       "    <tr style=\"text-align: right;\">\n",
       "      <th></th>\n",
       "      <th>No</th>\n",
       "    </tr>\n",
       "  </thead>\n",
       "  <tbody>\n",
       "    <tr>\n",
       "      <th>count</th>\n",
       "      <td>192.000000</td>\n",
       "    </tr>\n",
       "    <tr>\n",
       "      <th>mean</th>\n",
       "      <td>96.500000</td>\n",
       "    </tr>\n",
       "    <tr>\n",
       "      <th>std</th>\n",
       "      <td>55.569776</td>\n",
       "    </tr>\n",
       "    <tr>\n",
       "      <th>min</th>\n",
       "      <td>1.000000</td>\n",
       "    </tr>\n",
       "    <tr>\n",
       "      <th>25%</th>\n",
       "      <td>48.750000</td>\n",
       "    </tr>\n",
       "    <tr>\n",
       "      <th>50%</th>\n",
       "      <td>96.500000</td>\n",
       "    </tr>\n",
       "    <tr>\n",
       "      <th>75%</th>\n",
       "      <td>144.250000</td>\n",
       "    </tr>\n",
       "    <tr>\n",
       "      <th>max</th>\n",
       "      <td>192.000000</td>\n",
       "    </tr>\n",
       "  </tbody>\n",
       "</table>\n",
       "</div>"
      ],
      "text/plain": [
       "               No\n",
       "count  192.000000\n",
       "mean    96.500000\n",
       "std     55.569776\n",
       "min      1.000000\n",
       "25%     48.750000\n",
       "50%     96.500000\n",
       "75%    144.250000\n",
       "max    192.000000"
      ]
     },
     "execution_count": 11,
     "metadata": {},
     "output_type": "execute_result"
    }
   ],
   "source": [
    "df.describe()"
   ]
  },
  {
   "cell_type": "code",
   "execution_count": 13,
   "id": "c27b0a6d",
   "metadata": {},
   "outputs": [
    {
     "data": {
      "text/plain": [
       "<bound method NDFrame._add_numeric_operations.<locals>.sum of         No  Periode  Inflasi\n",
       "0    False    False    False\n",
       "1    False    False    False\n",
       "2    False    False    False\n",
       "3    False    False    False\n",
       "4    False    False    False\n",
       "..     ...      ...      ...\n",
       "187  False    False    False\n",
       "188  False    False    False\n",
       "189  False    False    False\n",
       "190  False    False    False\n",
       "191  False    False    False\n",
       "\n",
       "[192 rows x 3 columns]>"
      ]
     },
     "execution_count": 13,
     "metadata": {},
     "output_type": "execute_result"
    }
   ],
   "source": [
    "df.isnull().sum"
   ]
  },
  {
   "cell_type": "code",
   "execution_count": 24,
   "id": "3366fe53",
   "metadata": {},
   "outputs": [
    {
     "name": "stdout",
     "output_type": "stream",
     "text": [
      "   No         Periode Inflasi\n",
      "0   1   Desember 2023  2.61 %\n",
      "1   2   November 2023  2.86 %\n",
      "2   3    Oktober 2023  2.56 %\n",
      "3   4  September 2023  2.28 %\n",
      "4   5    Agustus 2023  3.27 %\n"
     ]
    }
   ],
   "source": [
    "import pandas as pd\n",
    "import numpy as np\n",
    "import matplotlib.pyplot as plt\n",
    "import statsmodels.api as sm\n",
    "from pmdarima import auto_arima\n",
    "\n",
    "data = \"C:\\\\Users\\\\Treyanita Citra K\\\\Python\\\\Latihan Machine Learning\\\\File\\\\Data Inflasi.xlsx\"\n",
    "df = pd.read_excel(data)\n",
    "\n",
    "print(df.head())"
   ]
  },
  {
   "cell_type": "code",
   "execution_count": 16,
   "id": "1df756e6",
   "metadata": {},
   "outputs": [
    {
     "name": "stdout",
     "output_type": "stream",
     "text": [
      "Collecting pmdarima"
     ]
    },
    {
     "name": "stderr",
     "output_type": "stream",
     "text": [
      "ERROR: pip's dependency resolver does not currently take into account all the packages that are installed. This behaviour is the source of the following dependency conflicts.\n",
      "tables 3.8.0 requires blosc2~=2.0.0, which is not installed.\n"
     ]
    },
    {
     "name": "stdout",
     "output_type": "stream",
     "text": [
      "\n",
      "  Obtaining dependency information for pmdarima from https://files.pythonhosted.org/packages/ac/f8/6c9364602b13f0dba129b53acd1344859690911a4d5021560d9fd6aa087f/pmdarima-2.0.4-cp311-cp311-win_amd64.whl.metadata\n",
      "  Downloading pmdarima-2.0.4-cp311-cp311-win_amd64.whl.metadata (8.0 kB)\n",
      "Requirement already satisfied: joblib>=0.11 in d:\\anaconda3\\lib\\site-packages (from pmdarima) (1.2.0)\n",
      "Collecting Cython!=0.29.18,!=0.29.31,>=0.29 (from pmdarima)\n",
      "  Obtaining dependency information for Cython!=0.29.18,!=0.29.31,>=0.29 from https://files.pythonhosted.org/packages/fd/10/236fcc0306f85a2db1b8bc147aea714b66a2f27bac4d9e09e5b2c5d5dcca/Cython-3.0.11-cp311-cp311-win_amd64.whl.metadata\n",
      "  Downloading Cython-3.0.11-cp311-cp311-win_amd64.whl.metadata (3.2 kB)\n",
      "Requirement already satisfied: numpy>=1.21.2 in d:\\anaconda3\\lib\\site-packages (from pmdarima) (1.24.3)\n",
      "Requirement already satisfied: pandas>=0.19 in d:\\anaconda3\\lib\\site-packages (from pmdarima) (2.0.3)\n",
      "Requirement already satisfied: scikit-learn>=0.22 in d:\\anaconda3\\lib\\site-packages (from pmdarima) (1.4.1.post1)\n",
      "Requirement already satisfied: scipy>=1.3.2 in d:\\anaconda3\\lib\\site-packages (from pmdarima) (1.11.1)\n",
      "Requirement already satisfied: statsmodels>=0.13.2 in d:\\anaconda3\\lib\\site-packages (from pmdarima) (0.14.0)\n",
      "Requirement already satisfied: urllib3 in d:\\anaconda3\\lib\\site-packages (from pmdarima) (1.26.16)\n",
      "Requirement already satisfied: setuptools!=50.0.0,>=38.6.0 in d:\\anaconda3\\lib\\site-packages (from pmdarima) (68.0.0)\n",
      "Requirement already satisfied: packaging>=17.1 in d:\\anaconda3\\lib\\site-packages (from pmdarima) (23.1)\n",
      "Requirement already satisfied: python-dateutil>=2.8.2 in d:\\anaconda3\\lib\\site-packages (from pandas>=0.19->pmdarima) (2.8.2)\n",
      "Requirement already satisfied: pytz>=2020.1 in d:\\anaconda3\\lib\\site-packages (from pandas>=0.19->pmdarima) (2023.3.post1)\n",
      "Requirement already satisfied: tzdata>=2022.1 in d:\\anaconda3\\lib\\site-packages (from pandas>=0.19->pmdarima) (2023.3)\n",
      "Requirement already satisfied: threadpoolctl>=2.0.0 in d:\\anaconda3\\lib\\site-packages (from scikit-learn>=0.22->pmdarima) (2.2.0)\n",
      "Requirement already satisfied: patsy>=0.5.2 in d:\\anaconda3\\lib\\site-packages (from statsmodels>=0.13.2->pmdarima) (0.5.3)\n",
      "Requirement already satisfied: six in d:\\anaconda3\\lib\\site-packages (from patsy>=0.5.2->statsmodels>=0.13.2->pmdarima) (1.16.0)\n",
      "Downloading pmdarima-2.0.4-cp311-cp311-win_amd64.whl (614 kB)\n",
      "   ---------------------------------------- 0.0/614.7 kB ? eta -:--:--\n",
      "   --- ------------------------------------ 61.4/614.7 kB 3.2 MB/s eta 0:00:01\n",
      "   ----- ---------------------------------- 81.9/614.7 kB 1.5 MB/s eta 0:00:01\n",
      "   --------- ------------------------------ 153.6/614.7 kB 1.8 MB/s eta 0:00:01\n",
      "   --------- ------------------------------ 153.6/614.7 kB 1.8 MB/s eta 0:00:01\n",
      "   ----------- -------------------------- 184.3/614.7 kB 853.3 kB/s eta 0:00:01\n",
      "   -------------------- ------------------- 317.4/614.7 kB 1.2 MB/s eta 0:00:01\n",
      "   ---------------------- ----------------- 348.2/614.7 kB 1.1 MB/s eta 0:00:01\n",
      "   ----------------------------------- ---- 553.0/614.7 kB 1.5 MB/s eta 0:00:01\n",
      "   ----------------------------------- ---- 553.0/614.7 kB 1.5 MB/s eta 0:00:01\n",
      "   ---------------------------------------- 614.7/614.7 kB 1.3 MB/s eta 0:00:00\n",
      "Downloading Cython-3.0.11-cp311-cp311-win_amd64.whl (2.8 MB)\n",
      "   ---------------------------------------- 0.0/2.8 MB ? eta -:--:--\n",
      "   -- ------------------------------------- 0.2/2.8 MB 5.0 MB/s eta 0:00:01\n",
      "   ----- ---------------------------------- 0.4/2.8 MB 4.5 MB/s eta 0:00:01\n",
      "   ------- -------------------------------- 0.5/2.8 MB 4.0 MB/s eta 0:00:01\n",
      "   --------- ------------------------------ 0.7/2.8 MB 3.8 MB/s eta 0:00:01\n",
      "   --------- ------------------------------ 0.7/2.8 MB 3.5 MB/s eta 0:00:01\n",
      "   --------- ------------------------------ 0.7/2.8 MB 3.5 MB/s eta 0:00:01\n",
      "   --------- ------------------------------ 0.7/2.8 MB 3.5 MB/s eta 0:00:01\n",
      "   --------- ------------------------------ 0.7/2.8 MB 3.5 MB/s eta 0:00:01\n",
      "   ---------- ----------------------------- 0.7/2.8 MB 1.7 MB/s eta 0:00:02\n",
      "   ---------- ----------------------------- 0.7/2.8 MB 1.7 MB/s eta 0:00:02\n",
      "   ----------- ---------------------------- 0.8/2.8 MB 1.5 MB/s eta 0:00:02\n",
      "   ----------- ---------------------------- 0.8/2.8 MB 1.5 MB/s eta 0:00:02\n",
      "   ----------- ---------------------------- 0.8/2.8 MB 1.5 MB/s eta 0:00:02\n",
      "   ------------ --------------------------- 0.9/2.8 MB 1.3 MB/s eta 0:00:02\n",
      "   ------------ --------------------------- 0.9/2.8 MB 1.3 MB/s eta 0:00:02\n",
      "   ------------ --------------------------- 0.9/2.8 MB 1.2 MB/s eta 0:00:02\n",
      "   --------------- ------------------------ 1.0/2.8 MB 1.3 MB/s eta 0:00:02\n",
      "   ---------------- ----------------------- 1.2/2.8 MB 1.4 MB/s eta 0:00:02\n",
      "   ---------------- ----------------------- 1.2/2.8 MB 1.4 MB/s eta 0:00:02\n",
      "   ---------------- ----------------------- 1.2/2.8 MB 1.4 MB/s eta 0:00:02\n",
      "   ---------------- ----------------------- 1.2/2.8 MB 1.4 MB/s eta 0:00:02\n",
      "   -------------------- ------------------- 1.4/2.8 MB 1.3 MB/s eta 0:00:02\n",
      "   --------------------- ------------------ 1.5/2.8 MB 1.4 MB/s eta 0:00:01\n",
      "   --------------------- ------------------ 1.5/2.8 MB 1.4 MB/s eta 0:00:01\n",
      "   --------------------- ------------------ 1.5/2.8 MB 1.4 MB/s eta 0:00:01\n",
      "   ---------------------- ----------------- 1.6/2.8 MB 1.3 MB/s eta 0:00:01\n",
      "   ---------------------- ----------------- 1.6/2.8 MB 1.3 MB/s eta 0:00:01\n",
      "   ------------------------ --------------- 1.7/2.8 MB 1.3 MB/s eta 0:00:01\n",
      "   --------------------------- ------------ 1.9/2.8 MB 1.4 MB/s eta 0:00:01\n",
      "   ------------------------------ --------- 2.1/2.8 MB 1.5 MB/s eta 0:00:01\n",
      "   --------------------------------- ------ 2.3/2.8 MB 1.6 MB/s eta 0:00:01\n",
      "   --------------------------------- ------ 2.3/2.8 MB 1.6 MB/s eta 0:00:01\n",
      "   --------------------------------- ------ 2.3/2.8 MB 1.6 MB/s eta 0:00:01\n",
      "   --------------------------------- ------ 2.3/2.8 MB 1.6 MB/s eta 0:00:01\n",
      "   ----------------------------------- ---- 2.4/2.8 MB 1.5 MB/s eta 0:00:01\n",
      "   ------------------------------------- -- 2.6/2.8 MB 1.5 MB/s eta 0:00:01\n",
      "   ---------------------------------------  2.8/2.8 MB 1.6 MB/s eta 0:00:01\n",
      "   ---------------------------------------- 2.8/2.8 MB 1.6 MB/s eta 0:00:00\n",
      "Installing collected packages: Cython, pmdarima\n",
      "Successfully installed Cython-3.0.11 pmdarima-2.0.4\n"
     ]
    }
   ],
   "source": [
    "df.plot()\n",
    "plt.title(\"Data Inflasi\")\n",
    "plt.show()"
   ]
  },
  {
   "cell_type": "code",
   "execution_count": null,
   "id": "05760af9",
   "metadata": {},
   "outputs": [],
   "source": []
  }
 ],
 "metadata": {
  "kernelspec": {
   "display_name": "Python 3 (ipykernel)",
   "language": "python",
   "name": "python3"
  },
  "language_info": {
   "codemirror_mode": {
    "name": "ipython",
    "version": 3
   },
   "file_extension": ".py",
   "mimetype": "text/x-python",
   "name": "python",
   "nbconvert_exporter": "python",
   "pygments_lexer": "ipython3",
   "version": "3.11.5"
  }
 },
 "nbformat": 4,
 "nbformat_minor": 5
}
