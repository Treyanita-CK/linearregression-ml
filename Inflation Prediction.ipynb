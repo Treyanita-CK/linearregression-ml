{
 "cells": [
  {
   "cell_type": "code",
   "execution_count": 14,
   "id": "01f1c4c6",
   "metadata": {},
   "outputs": [
    {
     "data": {
      "text/html": [
       "<div>\n",
       "<style scoped>\n",
       "    .dataframe tbody tr th:only-of-type {\n",
       "        vertical-align: middle;\n",
       "    }\n",
       "\n",
       "    .dataframe tbody tr th {\n",
       "        vertical-align: top;\n",
       "    }\n",
       "\n",
       "    .dataframe thead th {\n",
       "        text-align: right;\n",
       "    }\n",
       "</style>\n",
       "<table border=\"1\" class=\"dataframe\">\n",
       "  <thead>\n",
       "    <tr style=\"text-align: right;\">\n",
       "      <th></th>\n",
       "      <th>No</th>\n",
       "      <th>Periode</th>\n",
       "      <th>Inflasi</th>\n",
       "    </tr>\n",
       "  </thead>\n",
       "  <tbody>\n",
       "    <tr>\n",
       "      <th>0</th>\n",
       "      <td>1</td>\n",
       "      <td>Desember 2023</td>\n",
       "      <td>2.61 %</td>\n",
       "    </tr>\n",
       "    <tr>\n",
       "      <th>1</th>\n",
       "      <td>2</td>\n",
       "      <td>November 2023</td>\n",
       "      <td>2.86 %</td>\n",
       "    </tr>\n",
       "    <tr>\n",
       "      <th>2</th>\n",
       "      <td>3</td>\n",
       "      <td>Oktober 2023</td>\n",
       "      <td>2.56 %</td>\n",
       "    </tr>\n",
       "    <tr>\n",
       "      <th>3</th>\n",
       "      <td>4</td>\n",
       "      <td>September 2023</td>\n",
       "      <td>2.28 %</td>\n",
       "    </tr>\n",
       "    <tr>\n",
       "      <th>4</th>\n",
       "      <td>5</td>\n",
       "      <td>Agustus 2023</td>\n",
       "      <td>3.27 %</td>\n",
       "    </tr>\n",
       "    <tr>\n",
       "      <th>...</th>\n",
       "      <td>...</td>\n",
       "      <td>...</td>\n",
       "      <td>...</td>\n",
       "    </tr>\n",
       "    <tr>\n",
       "      <th>187</th>\n",
       "      <td>188</td>\n",
       "      <td>Mei 2008</td>\n",
       "      <td>10.38 %</td>\n",
       "    </tr>\n",
       "    <tr>\n",
       "      <th>188</th>\n",
       "      <td>189</td>\n",
       "      <td>April 2008</td>\n",
       "      <td>8.96 %</td>\n",
       "    </tr>\n",
       "    <tr>\n",
       "      <th>189</th>\n",
       "      <td>190</td>\n",
       "      <td>Maret 2008</td>\n",
       "      <td>8.17 %</td>\n",
       "    </tr>\n",
       "    <tr>\n",
       "      <th>190</th>\n",
       "      <td>191</td>\n",
       "      <td>Februari 2008</td>\n",
       "      <td>7.4 %</td>\n",
       "    </tr>\n",
       "    <tr>\n",
       "      <th>191</th>\n",
       "      <td>192</td>\n",
       "      <td>Januari 2008</td>\n",
       "      <td>7.36 %</td>\n",
       "    </tr>\n",
       "  </tbody>\n",
       "</table>\n",
       "<p>192 rows × 3 columns</p>\n",
       "</div>"
      ],
      "text/plain": [
       "      No         Periode  Inflasi\n",
       "0      1   Desember 2023   2.61 %\n",
       "1      2   November 2023   2.86 %\n",
       "2      3    Oktober 2023   2.56 %\n",
       "3      4  September 2023   2.28 %\n",
       "4      5    Agustus 2023   3.27 %\n",
       "..   ...             ...      ...\n",
       "187  188        Mei 2008  10.38 %\n",
       "188  189      April 2008   8.96 %\n",
       "189  190      Maret 2008   8.17 %\n",
       "190  191   Februari 2008    7.4 %\n",
       "191  192    Januari 2008   7.36 %\n",
       "\n",
       "[192 rows x 3 columns]"
      ]
     },
     "execution_count": 14,
     "metadata": {},
     "output_type": "execute_result"
    }
   ],
   "source": [
    "import pandas as pd\n",
    "\n",
    "data = \"C:\\\\Users\\\\Treyanita Citra K\\\\Python\\\\Latihan Machine Learning\\\\File\\\\Data Inflasi.xlsx\"\n",
    "df = pd.read_excel(data)\n",
    "\n",
    "df.head(192)\n"
   ]
  },
  {
   "cell_type": "code",
   "execution_count": 9,
   "id": "95861c9c",
   "metadata": {},
   "outputs": [
    {
     "name": "stdout",
     "output_type": "stream",
     "text": [
      "<class 'pandas.core.frame.DataFrame'>\n",
      "RangeIndex: 192 entries, 0 to 191\n",
      "Data columns (total 3 columns):\n",
      " #   Column   Non-Null Count  Dtype \n",
      "---  ------   --------------  ----- \n",
      " 0   No       192 non-null    int64 \n",
      " 1   Periode  192 non-null    object\n",
      " 2   Inflasi  192 non-null    object\n",
      "dtypes: int64(1), object(2)\n",
      "memory usage: 4.6+ KB\n"
     ]
    }
   ],
   "source": [
    "df.info()"
   ]
  },
  {
   "cell_type": "code",
   "execution_count": 11,
   "id": "f61ead6f",
   "metadata": {},
   "outputs": [
    {
     "data": {
      "text/html": [
       "<div>\n",
       "<style scoped>\n",
       "    .dataframe tbody tr th:only-of-type {\n",
       "        vertical-align: middle;\n",
       "    }\n",
       "\n",
       "    .dataframe tbody tr th {\n",
       "        vertical-align: top;\n",
       "    }\n",
       "\n",
       "    .dataframe thead th {\n",
       "        text-align: right;\n",
       "    }\n",
       "</style>\n",
       "<table border=\"1\" class=\"dataframe\">\n",
       "  <thead>\n",
       "    <tr style=\"text-align: right;\">\n",
       "      <th></th>\n",
       "      <th>No</th>\n",
       "    </tr>\n",
       "  </thead>\n",
       "  <tbody>\n",
       "    <tr>\n",
       "      <th>count</th>\n",
       "      <td>192.000000</td>\n",
       "    </tr>\n",
       "    <tr>\n",
       "      <th>mean</th>\n",
       "      <td>96.500000</td>\n",
       "    </tr>\n",
       "    <tr>\n",
       "      <th>std</th>\n",
       "      <td>55.569776</td>\n",
       "    </tr>\n",
       "    <tr>\n",
       "      <th>min</th>\n",
       "      <td>1.000000</td>\n",
       "    </tr>\n",
       "    <tr>\n",
       "      <th>25%</th>\n",
       "      <td>48.750000</td>\n",
       "    </tr>\n",
       "    <tr>\n",
       "      <th>50%</th>\n",
       "      <td>96.500000</td>\n",
       "    </tr>\n",
       "    <tr>\n",
       "      <th>75%</th>\n",
       "      <td>144.250000</td>\n",
       "    </tr>\n",
       "    <tr>\n",
       "      <th>max</th>\n",
       "      <td>192.000000</td>\n",
       "    </tr>\n",
       "  </tbody>\n",
       "</table>\n",
       "</div>"
      ],
      "text/plain": [
       "               No\n",
       "count  192.000000\n",
       "mean    96.500000\n",
       "std     55.569776\n",
       "min      1.000000\n",
       "25%     48.750000\n",
       "50%     96.500000\n",
       "75%    144.250000\n",
       "max    192.000000"
      ]
     },
     "execution_count": 11,
     "metadata": {},
     "output_type": "execute_result"
    }
   ],
   "source": [
    "df.describe()"
   ]
  },
  {
   "cell_type": "code",
   "execution_count": 13,
   "id": "b6f9856c",
   "metadata": {},
   "outputs": [
    {
     "data": {
      "text/plain": [
       "<bound method NDFrame._add_numeric_operations.<locals>.sum of         No  Periode  Inflasi\n",
       "0    False    False    False\n",
       "1    False    False    False\n",
       "2    False    False    False\n",
       "3    False    False    False\n",
       "4    False    False    False\n",
       "..     ...      ...      ...\n",
       "187  False    False    False\n",
       "188  False    False    False\n",
       "189  False    False    False\n",
       "190  False    False    False\n",
       "191  False    False    False\n",
       "\n",
       "[192 rows x 3 columns]>"
      ]
     },
     "execution_count": 13,
     "metadata": {},
     "output_type": "execute_result"
    }
   ],
   "source": [
    "df.isnull().sum"
   ]
  },
  {
   "cell_type": "code",
   "execution_count": 24,
   "id": "ddc76146",
   "metadata": {},
   "outputs": [
    {
     "name": "stdout",
     "output_type": "stream",
     "text": [
      "   No         Periode Inflasi\n",
      "0   1   Desember 2023  2.61 %\n",
      "1   2   November 2023  2.86 %\n",
      "2   3    Oktober 2023  2.56 %\n",
      "3   4  September 2023  2.28 %\n",
      "4   5    Agustus 2023  3.27 %\n"
     ]
    }
   ],
   "source": [
    "import pandas as pd\n",
    "import numpy as np\n",
    "import matplotlib.pyplot as plt\n",
    "import statsmodels.api as sm\n",
    "from pmdarima import auto_arima\n",
    "\n",
    "data = \"C:\\\\Users\\\\Treyanita Citra K\\\\Python\\\\Latihan Machine Learning\\\\File\\\\Data Inflasi.xlsx\"\n",
    "df = pd.read_excel(data)\n",
    "\n",
    "print(df.head())"
   ]
  },
  {
   "cell_type": "code",
   "execution_count": 25,
   "id": "0adc46ca",
   "metadata": {},
   "outputs": [
    {
     "data": {
      "image/png": "[encoded data removed]",
      "text/plain": [
       "<Figure size 640x480 with 1 Axes>"
      ]
     },
     "metadata": {},
     "output_type": "display_data"
    }
   ],
   "source": [
    "df.plot()\n",
    "plt.title(\"Data Inflasi\")\n",
    "plt.show()"
   ]
  },
  {
   "cell_type": "code",
   "execution_count": null,
   "id": "ff7b9010",
   "metadata": {},
   "outputs": [],
   "source": [
    "# bagi data set jadi pelatihan dan pengujian\n",
    "train_size = int(len(df)*0.8)\n",
    "train, test = df[:train_size], df[train_size:]\n",
    "\n"
   ]
  }
 ],
 "metadata": {
  "kernelspec": {
   "display_name": "Python 3 (ipykernel)",
   "language": "python",
   "name": "python3"
  },
  "language_info": {
   "codemirror_mode": {
    "name": "ipython",
    "version": 3
   },
   "file_extension": ".py",
   "mimetype": "text/x-python",
   "name": "python",
   "nbconvert_exporter": "python",
   "pygments_lexer": "ipython3",
   "version": "3.11.5"
  }
 },
 "nbformat": 4,
 "nbformat_minor": 5
}
